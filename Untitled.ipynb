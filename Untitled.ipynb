{
 "cells": [
  {
   "cell_type": "code",
   "execution_count": 2,
   "id": "02f6fe91-439f-481b-88f3-9672a8493f09",
   "metadata": {},
   "outputs": [],
   "source": [
    "import ssl\n",
    "ssl._create_default_https_context = ssl._create_unverified_context"
   ]
  },
  {
   "cell_type": "code",
   "execution_count": 3,
   "id": "cbc8a75d-f653-4492-9555-8c4ff58c255e",
   "metadata": {},
   "outputs": [],
   "source": [
    "from sklearn.datasets import fetch_openml\n",
    "from sklearn.model_selection import train_test_split\n",
    "\n",
    "dataset = fetch_openml(name=\"qsar-biodeg\", parser=\"auto\")\n",
    "\n",
    "X = dataset.data.values.astype(float)\n",
    "y = dataset.target.values\n",
    "\n",
    "X_train, X_test, y_train, y_test = train_test_split(X, y, test_size=0.5)\n",
    "\n",
    "X_prop_train, X_cal, y_prop_train, y_cal = train_test_split(X_train, y_train, test_size=0.25)"
   ]
  },
  {
   "cell_type": "code",
   "execution_count": 6,
   "id": "4bfffe67-f8b3-4c5c-b7a2-1fea60212ed2",
   "metadata": {},
   "outputs": [
    {
     "data": {
      "text/plain": [
       "WrapClassifier(learner=RandomForestClassifier(n_jobs=-1), calibrated=True, predictor=ConformalClassifier(fitted=True, mondrian=False))"
      ]
     },
     "execution_count": 6,
     "metadata": {},
     "output_type": "execute_result"
    }
   ],
   "source": [
    "from crepes import WrapClassifier\n",
    "from sklearn.ensemble import RandomForestClassifier\n",
    "\n",
    "rf = WrapClassifier(RandomForestClassifier(n_jobs=-1))\n",
    "\n",
    "rf.fit(X_prop_train, y_prop_train)\n",
    "\n",
    "rf.calibrate(X_cal, y_cal)"
   ]
  },
  {
   "cell_type": "code",
   "execution_count": 7,
   "id": "b2f0e757-5ccb-454b-b42e-887a3c97a761",
   "metadata": {},
   "outputs": [
    {
     "data": {
      "text/plain": [
       "array([[0.43289727, 0.05537024],\n",
       "       [0.96438549, 0.00102945],\n",
       "       [0.17272026, 0.14999711],\n",
       "       ...,\n",
       "       [0.88534643, 0.0150168 ],\n",
       "       [0.77982762, 0.02154524],\n",
       "       [0.66849758, 0.02587444]])"
      ]
     },
     "execution_count": 7,
     "metadata": {},
     "output_type": "execute_result"
    }
   ],
   "source": [
    "rf.predict_p(X_test)"
   ]
  }
 ],
 "metadata": {
  "kernelspec": {
   "display_name": "Python 3 (ipykernel)",
   "language": "python",
   "name": "python3"
  },
  "language_info": {
   "codemirror_mode": {
    "name": "ipython",
    "version": 3
   },
   "file_extension": ".py",
   "mimetype": "text/x-python",
   "name": "python",
   "nbconvert_exporter": "python",
   "pygments_lexer": "ipython3",
   "version": "3.11.6"
  }
 },
 "nbformat": 4,
 "nbformat_minor": 5
}
